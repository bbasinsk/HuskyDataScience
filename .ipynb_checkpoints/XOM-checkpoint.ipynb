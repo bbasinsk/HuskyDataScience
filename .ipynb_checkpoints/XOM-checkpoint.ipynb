{
 "cells": [
  {
   "cell_type": "code",
   "execution_count": 1,
   "metadata": {
    "collapsed": true
   },
   "outputs": [],
   "source": [
    "%matplotlib inline\n",
    "import datetime\n",
    "import pandas_datareader.data as web\n",
    "import matplotlib.pyplot as plt\n",
    "from matplotlib import style"
   ]
  },
  {
   "cell_type": "code",
   "execution_count": 2,
   "metadata": {},
   "outputs": [
    {
     "name": "stdout",
     "output_type": "stream",
     "text": [
      "           Symbol    Close       High        Low     Open   Volume\n",
      "Date                                                              \n",
      "2018-05-03  GOOGL  1026.30  1030.6900  1007.8900  1025.37  1964066\n",
      "2018-05-04  GOOGL  1051.00  1051.8792  1018.0500  1019.61  1844600\n",
      "2018-05-07  GOOGL  1059.46  1065.0000  1050.2697  1053.89  1719971\n",
      "2018-05-08  GOOGL  1058.59  1065.2300  1051.6410  1064.62  1301524\n",
      "2018-05-09  GOOGL  1088.95  1094.0000  1062.1100  1064.10  2357979\n",
      "2018-05-10  GOOGL  1105.47  1109.4100  1093.8800  1095.00  1820676\n",
      "2018-05-11  GOOGL  1103.38  1109.0100  1097.2200  1100.41  1494511\n"
     ]
    }
   ],
   "source": [
    "style.use('ggplot') #makes the plot look nicer\n",
    "\n",
    "# Lets use data from 2008 to now\n",
    "start = datetime.datetime(2008, 1, 1)\n",
    "end = datetime.datetime.now()\n",
    "\n",
    "# Read in Google stock data from morningstar\n",
    "# df = 'data frame'\n",
    "df = web.DataReader(\"GOOGL\", \"morningstar\", start, end)\n",
    "\n",
    "# Sets the x-axis to the date (instead of the symbol)\n",
    "df.reset_index(inplace=True)\n",
    "df.set_index(\"Date\", inplace=True)\n",
    "\n",
    "# Let's look at the data in the past week\n",
    "print(df.tail(7))"
   ]
  },
  {
   "cell_type": "markdown",
   "metadata": {},
   "source": [
    "## Let's plot the high points on a graph!"
   ]
  },
  {
   "cell_type": "code",
   "execution_count": null,
   "metadata": {
    "collapsed": true
   },
   "outputs": [],
   "source": [
    "df['High'].plot() #Creates the line plot of the 'high' values\n",
    "plt.show() #Displays the graph"
   ]
  },
  {
   "cell_type": "code",
   "execution_count": null,
   "metadata": {
    "collapsed": true
   },
   "outputs": [],
   "source": [
    "# Let's save the data to a csv\n",
    "df.to_csv('GoogleData.csv')"
   ]
  }
 ],
 "metadata": {
  "kernelspec": {
   "display_name": "Python 3",
   "language": "python",
   "name": "python3"
  },
  "language_info": {
   "codemirror_mode": {
    "name": "ipython",
    "version": 3
   },
   "file_extension": ".py",
   "mimetype": "text/x-python",
   "name": "python",
   "nbconvert_exporter": "python",
   "pygments_lexer": "ipython3",
   "version": "3.6.1"
  }
 },
 "nbformat": 4,
 "nbformat_minor": 1
}
